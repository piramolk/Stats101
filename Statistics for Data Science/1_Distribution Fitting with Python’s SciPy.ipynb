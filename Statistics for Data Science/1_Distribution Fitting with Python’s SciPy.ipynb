{
 "cells": [
  {
   "cell_type": "markdown",
   "id": "88f5de47",
   "metadata": {},
   "source": [
    "# about\n",
    "* created on\n",
    "\n",
    "* references\n",
    "\n",
    "* objective"
   ]
  },
  {
   "cell_type": "markdown",
   "id": "c3adfd0c",
   "metadata": {},
   "source": [
    "# Import"
   ]
  },
  {
   "cell_type": "code",
   "execution_count": 1,
   "id": "df9cd2ed",
   "metadata": {},
   "outputs": [],
   "source": [
    "%matplotlib inline\n",
    "import pandas as pd\n",
    "import numpy as np\n",
    "import matplotlib.pyplot as plt\n",
    "import time\n",
    "import math\n",
    "\n",
    "from scipy import stats\n",
    "\n",
    "ksN = 100           # Kolmogorov-Smirnov KS test for goodness of fit: samples\n",
    "ALPHA = 0.05        # significance level for hypothesis test"
   ]
  },
  {
   "cell_type": "code",
   "execution_count": 2,
   "id": "3996f845",
   "metadata": {},
   "outputs": [],
   "source": [
    "\n",
    "from scipy.stats import (\n",
    "    norm, beta, expon, gamma, genextreme, logistic, lognorm, triang, uniform, fatiguelife,            \n",
    "    gengamma, gennorm, dweibull, dgamma, gumbel_r, powernorm, rayleigh, weibull_max, weibull_min, \n",
    "    laplace, alpha, genexpon, bradford, betaprime, burr, fisk, genpareto, hypsecant, \n",
    "    halfnorm, halflogistic, invgauss, invgamma, levy, loglaplace, loggamma, maxwell, \n",
    "    mielke, ncx2, ncf, nct, nakagami, pareto, lomax, powerlognorm, powerlaw, rice, \n",
    "    semicircular, trapezoid, rice, invweibull, foldnorm, foldcauchy, cosine, exponpow, \n",
    "    exponweib, wald, wrapcauchy, truncexpon, truncnorm, t, rdist\n",
    "    )\n",
    "\n",
    "distributions = [\n",
    "    norm, beta, expon, gamma, genextreme, logistic, lognorm, triang, uniform, fatiguelife,            \n",
    "    gengamma, gennorm, dweibull, dgamma, gumbel_r, powernorm, rayleigh, weibull_max, weibull_min, \n",
    "    laplace, alpha, genexpon, bradford, betaprime, burr, fisk, genpareto, hypsecant, \n",
    "    halfnorm, halflogistic, invgauss, invgamma, levy, loglaplace, loggamma, maxwell, \n",
    "    mielke, ncx2, ncf, nct, nakagami, pareto, lomax, powerlognorm, powerlaw, rice, \n",
    "    semicircular, trapezoid, rice, invweibull, foldnorm, foldcauchy, cosine, exponpow, \n",
    "    exponweib, wald, wrapcauchy, truncexpon, truncnorm, t, rdist\n",
    "    ]"
   ]
  },
  {
   "cell_type": "markdown",
   "id": "202d1204",
   "metadata": {},
   "source": [
    "# 1. SciPy’s Distributions and their Properties\n",
    "\n",
    "## 1.1 Select and Instantiate a Distribution : Beta distribution\n",
    "\n",
    "* Two shape parameters, $\\alpha$ (a) and $\\beta$ (b)\n",
    "* Let's set  $\\alpha = 2 $ and $\\beta = 6$\n",
    "* The default domain is the interval [0;1] for its random variates of x. * Below, we will see how the support can be extended to much wider intervals by adding location and scale parameters to the two share parameters. \n",
    "* Our choice of shape parameters will make it look similar to the bell curve of a normal distribution, but not quite aligned with it — it will be somewhat positive-skewed, with a drawn-out tail on the right.\n",
    "* We generate 1,000 random variates x that follow the Beta(2,6) distribution, by applying the rvs() function, and then plot them in a histogram."
   ]
  },
  {
   "cell_type": "code",
   "execution_count": 13,
   "id": "997580d6",
   "metadata": {},
   "outputs": [
    {
     "name": "stderr",
     "output_type": "stream",
     "text": [
      "No handles with labels found to put in legend.\n"
     ]
    },
    {
     "data": {
      "image/png": "[encoded data removed]",
      "text/plain": [
       "<Figure size 432x288 with 1 Axes>"
      ]
     },
     "metadata": {
      "needs_background": "light"
     },
     "output_type": "display_data"
    }
   ],
   "source": [
    "# example: properties of the beta distribution\n",
    "\n",
    "a, b = 2, 6\n",
    "\n",
    "x = beta.rvs(a, b, size=1000)\n",
    "\n",
    "fig, ax = plt.subplots(1, 1)\n",
    "ax.hist(x, density=True, histtype='stepfilled', alpha=0.2)\n",
    "ax.legend(loc='best', frameon=False)\n",
    "plt.title('Beta(2,6)')\n",
    "plt.show()"
   ]
  },
  {
   "cell_type": "code",
   "execution_count": 4,
   "id": "a96fbff5",
   "metadata": {},
   "outputs": [
    {
     "name": "stdout",
     "output_type": "stream",
     "text": [
      "<class 'scipy.stats._continuous_distns.beta_gen'>\n"
     ]
    }
   ],
   "source": [
    "print(type(beta))"
   ]
  },
  {
   "cell_type": "markdown",
   "id": "6d6d2764",
   "metadata": {},
   "source": [
    "> SciPy’s beta is an object of the type distribution generator, beta_gen, inherited from its class of continuous distributions."
   ]
  },
  {
   "cell_type": "markdown",
   "id": "433ced81",
   "metadata": {},
   "source": [
    "## 1.2 Properties of a Distribution\n",
    "\n",
    "* Lets get more out of our Beta(2,6) - the moments and the shape parameters\n",
    "* We compute them separately, then collect them in a dictionary stats, where we pair them with descriptive names, and finally we use a list comprehension to pretty-print the dictionary row by row.\n"
   ]
  },
  {
   "cell_type": "code",
   "execution_count": 6,
   "id": "aad9dc83",
   "metadata": {},
   "outputs": [
    {
     "name": "stdout",
     "output_type": "stream",
     "text": [
      "mean : 0.250\n",
      "var : 0.021\n",
      "shape a : 0.000\n",
      "shape b : 1.000\n",
      "median : 0.228\n"
     ]
    }
   ],
   "source": [
    "# statistics of the Beta(2,6) distribution\n",
    "m = beta.mean(a,b)\n",
    "v = beta.var(a,b)\n",
    "shp_a = beta.a\n",
    "shp_b = beta.b\n",
    "median = beta.median(a,b)\n",
    "\n",
    "stats = {\"mean\":m, \"var\":v, \"shape a\":shp_a, \"shape b\":shp_b, \"median\":median}\n",
    "_ = [print(k,\":\",f'{v:.3f}') for k,v in stats.items()]"
   ]
  },
  {
   "cell_type": "markdown",
   "id": "4aa2b758",
   "metadata": {},
   "source": [
    "> To obtain four core statistics all at once, i.e. the moments up to order 4, we use the stats method with its keyword moments = ‘mvsk’: mean, variance, skewness, and kurtosis."
   ]
  },
  {
   "cell_type": "code",
   "execution_count": 7,
   "id": "cccc6d23",
   "metadata": {},
   "outputs": [
    {
     "name": "stdout",
     "output_type": "stream",
     "text": [
      "mean : 0.250\n",
      "var : 0.021\n",
      "skew : 0.693\n",
      "kurt : 0.109\n"
     ]
    }
   ],
   "source": [
    "# first 4 moments of Beta(2,6)\n",
    "moments_values = beta.stats(a,b, moments=\"mvsk\")\n",
    "\n",
    "moments_names = [\"mean\", \"var\", \"skew\", \"kurt\"]\n",
    "moments = dict(zip(moments_names, moments_values))\n",
    "_ = [print(k,\":\",f'{v:.3f}') for k,v in moments.items()]"
   ]
  },
  {
   "cell_type": "markdown",
   "id": "5e1b4e8b",
   "metadata": {},
   "source": [
    "#### Skewness\n",
    "* We observe a skewness different from the yardstick of 0 we would get from a standard normal distibution. The skewness measures the asymmetry of the distribution about its mean. "
   ]
  },
  {
   "cell_type": "code",
   "execution_count": 14,
   "id": "89e03cce",
   "metadata": {},
   "outputs": [
    {
     "name": "stderr",
     "output_type": "stream",
     "text": [
      "No handles with labels found to put in legend.\n"
     ]
    },
    {
     "data": {
      "image/png": "[encoded data removed]",
      "text/plain": [
       "<Figure size 432x288 with 1 Axes>"
      ]
     },
     "metadata": {
      "needs_background": "light"
     },
     "output_type": "display_data"
    }
   ],
   "source": [
    "# print the plot for Beta(2,6) again\n",
    "fig, ax = plt.subplots(1, 1)\n",
    "ax.hist(x, density=True, histtype='stepfilled', alpha=0.2)\n",
    "ax.legend(loc='best', frameon=False)\n",
    "plt.title('Plot of Beta(2,6)')\n",
    "plt.show()"
   ]
  },
  {
   "cell_type": "markdown",
   "id": "d550b40b",
   "metadata": {},
   "source": [
    "* Beta(2,6)\n",
    "    * we can see that is is moderately positively skewed (right-tailed)\n",
    "* Skewness measures imbalance between tails\n",
    "* Kurtosis\n",
    "    * A distribution with high kurtosis has a propensity to produce more outliers in either tail; it is tail-weighted relative to the center, therefore its center appears skinnier\n",
    "    * The tails extend farther out than a normal distribution’s three standard deviations from the mean, which comprise 99.7% of its mass. \n",
    "* A normal distribution, acting as the yardstick, has a kurtosis of 3.0.\n",
    "    * But SciPy uses the excess kurtosis and calibrates the normal distribution’s metric to 0. The excess kurtosis measures how heavily the tails differ from those of a normal distribution.\n",
    "* Beta(2,6) has a small positive excess kurtosis of 0.11.\n",
    "* Different types of kurtosis\n",
    "    * A value close to zero indicates that it is <b> mesokurtic</b> — it has only slightly heavier tails than a normal distribution, thus its extreme value patterns will be similar. \n",
    "    *  A more distinctive positive kurtosis makes a distribution <b>leptokurtic</b>, meaning “skinny”; its outliers along the x-axis lie farther away from a center, which therefore appears less bulky. \n",
    "    * A <b>platykurtic</b> (“broad”) distribution, by contrast, with its negative kurtosis, has short tails; it exhibits a reduced propensity for extreme values compared with the normal distribution.\n",
    "* Our Beta(2,6) variate has an excess kurtosis close enough to zero that we can consider it mesokurtic, still quite similar to a normal distribution."
   ]
  },
  {
   "cell_type": "markdown",
   "id": "6b8a0d50",
   "metadata": {},
   "source": [
    "## 1.3 Freeze the Parametrization\n",
    "*  If we don’t need to modify the parameters in our future lines of code, we can assign the distribution object with its current parameters to the variable rv. \n",
    "* SciPy calls this the frozen random variate object."
   ]
  },
  {
   "cell_type": "code",
   "execution_count": 15,
   "id": "fc454d6a",
   "metadata": {},
   "outputs": [
    {
     "name": "stdout",
     "output_type": "stream",
     "text": [
      "0.250\n",
      "0.021\n",
      "0.693\n",
      "0.109\n"
     ]
    }
   ],
   "source": [
    "# freeze the distibution as an object with its current parameters, assign it to variable rv\n",
    "\n",
    "rv = beta(a,b)\n",
    "moments = rv.stats(\"mvsk\")\n",
    "_ = [print(f'{v:.3f}') for v in moments]"
   ]
  },
  {
   "cell_type": "markdown",
   "id": "fc63b1c6",
   "metadata": {},
   "source": [
    "## 1.4 Getting Probabilities and Quantiles"
   ]
  },
  {
   "cell_type": "code",
   "execution_count": 16,
   "id": "41a50b6c",
   "metadata": {},
   "outputs": [
    {
     "data": {
      "text/plain": [
       "[<matplotlib.lines.Line2D at 0x7fca4188c550>]"
      ]
     },
     "execution_count": 16,
     "metadata": {},
     "output_type": "execute_result"
    },
    {
     "data": {
      "image/png": "[encoded data removed]",
      "text/plain": [
       "<Figure size 432x288 with 1 Axes>"
      ]
     },
     "metadata": {
      "needs_background": "light"
     },
     "output_type": "display_data"
    }
   ],
   "source": [
    "# plot the pdf\n",
    "x = np.linspace(rv.ppf(0.01),\n",
    "                rv.ppf(0.99), 100)\n",
    "\n",
    "fig, ax = plt.subplots(1, 1)\n",
    "ax.plot(x, rv.pdf(x), 'r-', lw=5, alpha=0.6, label='beta pdf')"
   ]
  },
  {
   "cell_type": "markdown",
   "id": "2f21e2a5",
   "metadata": {},
   "source": [
    "* To plot the probability density function pdf, we calibrate the x-axis by having linspace() draw a line of coordinate points. \n",
    "* As endpoints, we choose the 1% and 99% quantiles: \n",
    "    * these are the values of x that the Beta(2,6) distribution will not exceed with 1% and 99% probability, respectively. \n",
    "* The percent point function ppf() provides the x-values at these probabilities. \n",
    "* Minimum and maximum values will not work for many distributions with a domain that is unbounded: \n",
    "    * their x-axis can, in theory, extend to positive and/or negative infinity, as in the case of the normal distribution; in practice, the script would report an error for axis endpoints that are set at infinity.\n",
    "    \n",
    "## 1.5 The Domain or Support of a Distribution\n",
    "* to get the domain of the beta distribution, we call scipy's `support()` method"
   ]
  },
  {
   "cell_type": "code",
   "execution_count": 17,
   "id": "d1af40b3",
   "metadata": {},
   "outputs": [
    {
     "data": {
      "text/plain": [
       "(0.0, 1.0)"
      ]
     },
     "execution_count": 17,
     "metadata": {},
     "output_type": "execute_result"
    }
   ],
   "source": [
    "rv.support()"
   ]
  },
  {
   "cell_type": "markdown",
   "id": "8b3087d8",
   "metadata": {},
   "source": [
    "* The standard Beta distribution extends just from 0 to 1 along the x-axis. \n",
    "* In this, it is not unlike the standard normal distribution that is centered around a mean of 0 and a standard deviation of 1,\n",
    "    * which implies that beyond 3 deviations to the left and right of zero, the standard normal distribution only carries minuscule amounts of its mass — \n",
    "    * though its tails theoretically do extend to infinity, with smaller and smaller probabilities that those values will ever be observed."
   ]
  },
  {
   "cell_type": "code",
   "execution_count": 18,
   "id": "8219d542",
   "metadata": {},
   "outputs": [
    {
     "data": {
      "text/plain": [
       "(1.0, inf)"
      ]
     },
     "execution_count": 18,
     "metadata": {},
     "output_type": "execute_result"
    }
   ],
   "source": [
    "gamma(1,1).support()"
   ]
  },
  {
   "cell_type": "markdown",
   "id": "fd8fd95a",
   "metadata": {},
   "source": [
    "* The Gamma(1,1) distribution stretches itself out along the x-axis all the way to positive infinity.\n",
    "\n",
    "<u> Boosting Beta </b>\n",
    "* The standard Beta distribution is too limited for many practical applications. \n",
    "* Therefore, let’s equip it with location and scale parameters, in addition to its two shape parameters. \n",
    "* Location and scale are parametrizations that are available for most of the other SciPy distributions as well.\n",
    "\n",
    "## 1.6 Rescaling and Shifting a Distribution\n",
    "We define the shifted and rescaled beta distribution by entering beta(shape_a, shape_b, loc, scale) in row 5 and assign the result to the variable rv."
   ]
  },
  {
   "cell_type": "code",
   "execution_count": 19,
   "id": "b4572ff3",
   "metadata": {},
   "outputs": [
    {
     "name": "stdout",
     "output_type": "stream",
     "text": [
      "(100.0, 320.0)\n"
     ]
    },
    {
     "data": {
      "text/plain": [
       "[<matplotlib.lines.Line2D at 0x7fca423c6280>]"
      ]
     },
     "execution_count": 19,
     "metadata": {},
     "output_type": "execute_result"
    },
    {
     "data": {
      "image/png": "[encoded data removed]",
      "text/plain": [
       "<Figure size 432x288 with 1 Axes>"
      ]
     },
     "metadata": {
      "needs_background": "light"
     },
     "output_type": "display_data"
    }
   ],
   "source": [
    "# horizontally shift the beta distribution and rescale its right tail to \n",
    "\n",
    "loc, scl = 100, 220\n",
    "rv = beta(a,b, loc,scl)\n",
    "print(rv.support())\n",
    "\n",
    "x = np.linspace(rv.ppf(0.01),\n",
    "                rv.ppf(0.99), 100)\n",
    "\n",
    "fig, ax = plt.subplots(1, 1)\n",
    "ax.plot(x, rv.pdf(x), 'r-', lw=5, alpha=0.6, label='beta pdf')"
   ]
  },
  {
   "cell_type": "markdown",
   "id": "a8912d70",
   "metadata": {},
   "source": [
    "<u> What did that do? </u>\n",
    "* The location parameter loc moved the minimum of its support along the x-axis to a value of 100\n",
    "* the sum of location and scale moved its maximum to 100+220 = 320. \n",
    "* This distribution can well reflect a real-world phenomenon that is subject to a random process or uncertainty between the boundaries of 100 and 320\n",
    "\n",
    "<u> Now what? </u>\n",
    "* Next, we compute the first four moments by applying stats() and convert the resulting tuple to a list in row 3. \n",
    "* Since the variance is hard to interpret, we also calculate the standard deviation, which we append to the list of moments in row 4.\n",
    "* We write down the names of the five metrics, then zip-combine the list of values with the list of names in the dictionary moments, and finally hand the dictionary over to a list comprehension that will pretty-print its contents row by row, in row 8.\n"
   ]
  },
  {
   "cell_type": "code",
   "execution_count": 20,
   "id": "5d1319ac",
   "metadata": {},
   "outputs": [
    {
     "name": "stdout",
     "output_type": "stream",
     "text": [
      "mean : 155.000\n",
      "var : 1008.333\n",
      "skew : 0.693\n",
      "kurt : 0.109\n",
      "std : 31.754\n"
     ]
    }
   ],
   "source": [
    "# get the first 4 moments and append the std deviation\n",
    "\n",
    "moments_values = [v.item() for v in rv.stats(moments=\"mvsk\")]\n",
    "moments_values.append(rv.std())\n",
    "moments_names = [\"mean\", \"var\", \"skew\", \"kurt\", \"std\"]\n",
    "\n",
    "#zip and print\n",
    "moments = dict(zip(moments_names, moments_values))\n",
    "_ = [print(k,\":\",f'{v:.3f}') for k,v in moments.items()]"
   ]
  },
  {
   "cell_type": "markdown",
   "id": "a079a375",
   "metadata": {},
   "source": [
    "* The random process is centered around a mean of 155, with a standard deviation of 31.8. Since we only shifted and scaled the curve, its shape remains unchanged — it has retained its skewness and excess kurtosis.\n",
    "\n",
    "Let’s plot the cumulative distribution function cdf and its inverse, the percent point or quantile function ppf."
   ]
  },
  {
   "cell_type": "code",
   "execution_count": 22,
   "id": "0c7c2319",
   "metadata": {},
   "outputs": [
    {
     "data": {
      "text/plain": [
       "Text(0.5, 1.0, 'Beta cdf')"
      ]
     },
     "execution_count": 22,
     "metadata": {},
     "output_type": "execute_result"
    },
    {
     "data": {
      "image/png": "[encoded data removed]",
      "text/plain": [
       "<Figure size 432x288 with 1 Axes>"
      ]
     },
     "metadata": {
      "needs_background": "light"
     },
     "output_type": "display_data"
    }
   ],
   "source": [
    "## plot cdf\n",
    "\n",
    "fig,ax = plt.subplots(1,1)\n",
    "ax.plot(x,rv.cdf(x),'r-',lw=5,alpha=0.6,label='beta cdf')\n",
    "plt.title('Beta cdf')"
   ]
  },
  {
   "cell_type": "code",
   "execution_count": 23,
   "id": "6382c0f7",
   "metadata": {},
   "outputs": [
    {
     "data": {
      "text/plain": [
       "Text(0.5, 1.0, 'Beta inverse cdf')"
      ]
     },
     "execution_count": 23,
     "metadata": {},
     "output_type": "execute_result"
    },
    {
     "data": {
      "image/png": "[encoded data removed]",
      "text/plain": [
       "<Figure size 432x288 with 1 Axes>"
      ]
     },
     "metadata": {
      "needs_background": "light"
     },
     "output_type": "display_data"
    }
   ],
   "source": [
    "# plot the inverse cdf or ppf\n",
    "\n",
    "q = np.linspace(0.0, 1.0, 100)\n",
    "\n",
    "fig, ax = plt.subplots(1, 1)\n",
    "ax.plot(q, rv.ppf(q), 'r-', lw=5, alpha=0.6, label='beta inverse cdf')\n",
    "plt.title('Beta inverse cdf')"
   ]
  },
  {
   "cell_type": "code",
   "execution_count": null,
   "id": "089d7ecc",
   "metadata": {},
   "outputs": [],
   "source": []
  },
  {
   "cell_type": "markdown",
   "id": "5b27f7d8",
   "metadata": {},
   "source": [
    "-----\n",
    "# 2. Distribution Fitting\n",
    "## 2.1 Principles\n",
    "* The first distribution that comes to mind for describing a random process is the normal distribution. Despite its dominance in text books, it does not qualify for large numbers of random processes:\n",
    "    * The normal distribution is symmetric about its mean and median. But often, the observational data make it quite clear that the random process that generated them is left-skewed or right-skewed, particularly if the domain is bounded, for instance if it has a hard minimum value at zero.\n",
    "    * The normal distribution is unbounded: Its domain extends to positive and negative infinity. Most real phenomena defy attempts to describe them in terms of unbounded growth or magnitude; or they cannot assume negative values, which invalidates half of the normal distribution’s probability mass.\n",
    "    * The normal distribution is not heavy-tailed. Many random processes, for instance in financial markets, exhibit so-called long tails: the probability that extreme outcomes will occur — critical for decisions in engineering or finance — is higher than normal distributions would predict on their own.\n",
    "    \n",
    "### How then do we choose candidate distributions?\n",
    "* It should be chosen based on the following criteria:\n",
    "    * The nature of the random process if we can discern it.\n",
    "        * Of the 200+ distribution models in existence, many are tailored to describe specific types of random processes.\n",
    "        * Examples: \n",
    "            * To model the time till failure of equipment — if failure depends on how long the equipment has been in operation — a Weibull distribution should be among the candidates chosen for the fitting process\n",
    "            * a waiting line — a different kind of random process — invites a description by a Poisson variate.\n",
    "            \n",
    "   * The domain or support of the distribution stands for the interval of x-values on which it is defined.\n",
    "       * Most natural phenomena and most technical processes, for instance, cannot assume negative values. \n",
    "       * The time between technical failures cannot become negative. The candidate distributions for these processes need to have a non-negative domain. \n",
    "       * For some of them, this domain is inherent in their mathematical definition. Others can undergo transformations: they can be truncated or shifted and rescaled to recalibrate them to a non-negative domain, such as the half-normal distribution.\n",
    "       * Most instances of normal variates represent shifted and rescaled variants of the standard normal distribution\n",
    "  * The shape of the observational data. \n",
    "      * If the nature of the random process cannot be described a priori, then the shape of the histogram will provide clues as to whether, for instance, a symmetric, left-skewed, or right- skewed distribution will be a better fit."
   ]
  },
  {
   "cell_type": "code",
   "execution_count": null,
   "id": "f372385f",
   "metadata": {},
   "outputs": [],
   "source": []
  },
  {
   "cell_type": "code",
   "execution_count": null,
   "id": "fcefcdf5",
   "metadata": {},
   "outputs": [],
   "source": []
  },
  {
   "cell_type": "code",
   "execution_count": null,
   "id": "b3ed8e26",
   "metadata": {},
   "outputs": [],
   "source": []
  },
  {
   "cell_type": "code",
   "execution_count": null,
   "id": "7200fda0",
   "metadata": {},
   "outputs": [],
   "source": []
  }
 ],
 "metadata": {
  "kernelspec": {
   "display_name": "Python 3",
   "language": "python",
   "name": "python3"
  },
  "language_info": {
   "codemirror_mode": {
    "name": "ipython",
    "version": 3
   },
   "file_extension": ".py",
   "mimetype": "text/x-python",
   "name": "python",
   "nbconvert_exporter": "python",
   "pygments_lexer": "ipython3",
   "version": "3.9.5"
  }
 },
 "nbformat": 4,
 "nbformat_minor": 5
}
